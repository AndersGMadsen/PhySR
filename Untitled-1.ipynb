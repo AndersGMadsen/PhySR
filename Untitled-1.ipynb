{
 "cells": [
  {
   "cell_type": "code",
   "execution_count": 9,
   "metadata": {},
   "outputs": [],
   "source": [
    "from Code._2DGS import *\n",
    "device = torch.device(\"cuda\")"
   ]
  },
  {
   "cell_type": "code",
   "execution_count": 10,
   "metadata": {},
   "outputs": [],
   "source": [
    "data_dir = ''\n",
    "data_fname = '2DGS/2DGS_IC'\n",
    "\n",
    "# define the initial conditions    \n",
    "ICs = np.arange(1, 21)\n",
    "data_loader = GSDataset(data_dir, data_fname, ICs)\n",
    "n_datasets = data_loader.__len__()\n",
    "\n",
    "# get mean and std\n",
    "data = data_loader[0][1]\n",
    "total_hres = torch.zeros(len(data_loader), data_loader[0][1].shape[0],  data_loader[0][1].shape[1],  data_loader[0][1].shape[2],  data_loader[0][1].shape[3])\n",
    "total_lres = torch.zeros(len(data_loader), data_loader[0][0].shape[0],  data_loader[0][0].shape[1],  data_loader[0][0].shape[2],  data_loader[0][0].shape[3]) # [b,t,c,h,w]\n",
    "\n",
    "for i in range(len(data_loader)):\n",
    "    total_hres[i,...] = data_loader[i][1]\n",
    "    total_lres[i,...] = data_loader[i][0]\n",
    "\n",
    "mean_hres = torch.mean(total_hres, axis = (0,1,3,4)) \n",
    "std_hres = torch.std(total_hres, axis = (0,1,3,4))\n",
    "\n",
    "# split data\n",
    "split_ratio = [int(n_datasets*0.7), int(n_datasets*0.2), n_datasets - int(n_datasets*0.7) - int(n_datasets*0.2)]\n",
    "\n",
    "train_data, val_data, test_data = torch.utils.data.random_split(data_loader, split_ratio)\n",
    "\n",
    "# change to pytorch data\n",
    "# data in train_loader is [b, t, c, h, w] -> [1, 151, 2, 32, 32]\n",
    "train_loader = torch.utils.data.DataLoader(train_data, batch_size = 2, \n",
    "    shuffle=True, num_workers=0) \n",
    "\n",
    "val_loader = torch.utils.data.DataLoader(val_data, batch_size = 2, \n",
    "    shuffle=False, num_workers=0)    \n",
    "\n",
    "test_loader = torch.utils.data.DataLoader(test_data, batch_size = 2, \n",
    "    shuffle=False, num_workers=0)"
   ]
  },
  {
   "cell_type": "code",
   "execution_count": 32,
   "metadata": {},
   "outputs": [
    {
     "name": "stdout",
     "output_type": "stream",
     "text": [
      "Super-Resolution for 2D GS equation...\n",
      "Pretrained model loaded!\n"
     ]
    }
   ],
   "source": [
    "######################### build model #############################\n",
    "# training parameters\n",
    "n_iters = 2000 \n",
    "learning_rate = 1e-3\n",
    "print_every = 2   \n",
    "dt = 1.0*5*2 \n",
    "dx = 1.0  \n",
    "steps = 100 \n",
    "effective_step = list(range(0, steps))\n",
    "\n",
    "beta = 0.025 # for physics loss        \n",
    "print('Super-Resolution for 2D GS equation...')\n",
    "\n",
    "model = PhySR(\n",
    "    n_feats = 64,\n",
    "    n_layers = [1, 2], # [n_convlstm, n_resblock]\n",
    "    upscale_factor = [4, 8], # [t_up, s_up]\n",
    "    shift_mean_paras = [mean_hres, std_hres],  \n",
    "    step = steps,\n",
    "    effective_step = effective_step).to(device)\n",
    "\n",
    "init_state = get_init_state(\n",
    "        batch_size = [2], \n",
    "        hidden_channels = [64], \n",
    "        output_size = [[16, 16]],\n",
    "        mode = 'random')\n",
    "\n",
    "model, _, _ = load_checkpoint(model, optimizer=None, scheduler=None, \n",
    "            save_dir='checkpoint_full.pt') "
   ]
  },
  {
   "cell_type": "code",
   "execution_count": 83,
   "metadata": {},
   "outputs": [],
   "source": [
    "for idx, (lres, hres) in enumerate(train_loader):\n",
    "    lres = lres.transpose(0,1)\n",
    "    break"
   ]
  },
  {
   "cell_type": "code",
   "execution_count": 84,
   "metadata": {},
   "outputs": [
    {
     "data": {
      "text/plain": [
       "torch.Size([25, 2, 2, 16, 16])"
      ]
     },
     "execution_count": 84,
     "metadata": {},
     "output_type": "execute_result"
    }
   ],
   "source": [
    "lres.shape"
   ]
  },
  {
   "cell_type": "code",
   "execution_count": 90,
   "metadata": {},
   "outputs": [
    {
     "name": "stdout",
     "output_type": "stream",
     "text": [
      "torch.Size([25, 1, 2, 16, 16]) torch.Size([100, 2, 2, 128, 128])\n"
     ]
    }
   ],
   "source": [
    "x = total_lres[0:1].transpose(0,1).to(device)\n",
    "y = model(x, init_state)\n",
    "print(x.shape, y.shape)"
   ]
  },
  {
   "cell_type": "code",
   "execution_count": 85,
   "metadata": {},
   "outputs": [],
   "source": [
    "from matplotlib import pyplot as plt"
   ]
  },
  {
   "cell_type": "code",
   "execution_count": 92,
   "metadata": {},
   "outputs": [],
   "source": [
    "fig, ax = plt.subplots(1,2, figsize=(10,5))\n",
    "ax[0].imshow(y[0][0][0].cpu().detach().numpy())\n",
    "ax[1].imshow(y[0][0][1].cpu().detach().numpy())\n",
    "plt.show()"
   ]
  },
  {
   "cell_type": "code",
   "execution_count": null,
   "metadata": {},
   "outputs": [],
   "source": []
  },
  {
   "cell_type": "code",
   "execution_count": null,
   "metadata": {},
   "outputs": [],
   "source": []
  },
  {
   "cell_type": "code",
   "execution_count": null,
   "metadata": {},
   "outputs": [],
   "source": []
  },
  {
   "cell_type": "code",
   "execution_count": 6,
   "metadata": {},
   "outputs": [],
   "source": [
    "plt.imshow(total_hres[0][0][0])\n",
    "plt.show()"
   ]
  }
 ],
 "metadata": {
  "kernelspec": {
   "display_name": "Python 3 (ipykernel)",
   "language": "python",
   "name": "python3"
  },
  "language_info": {
   "codemirror_mode": {
    "name": "ipython",
    "version": 3
   },
   "file_extension": ".py",
   "mimetype": "text/x-python",
   "name": "python",
   "nbconvert_exporter": "python",
   "pygments_lexer": "ipython3",
   "version": "3.10.11"
  },
  "orig_nbformat": 4
 },
 "nbformat": 4,
 "nbformat_minor": 2
}
