{
 "cells": [
  {
   "cell_type": "code",
   "execution_count": 9,
   "metadata": {},
   "outputs": [],
   "source": [
    "import numpy as np\n",
    "\n",
    "A_record_shape = (1501, 48, 48, 48)\n",
    "B_record_shape = (1501, 48, 48, 48)\n",
    "\n",
    "# Create a memory-mapped file\n",
    "output_shape = (2, 1501, 48, 48, 48)\n",
    "output_file = np.memmap('output.npy', dtype=np.float32, mode='w+', shape=output_shape)\n",
    "\n",
    "# Load and copy A_record\n",
    "A_record = np.load('A_record.npy', mmap_mode='r')\n",
    "output_file[0] = A_record\n",
    "del A_record\n",
    "\n",
    "# Load and copy B_record\n",
    "B_record = np.load('B_record.npy', mmap_mode='r')\n",
    "output_file[1] = B_record\n",
    "del B_record"
   ]
  },
  {
   "cell_type": "code",
   "execution_count": 13,
   "metadata": {},
   "outputs": [],
   "source": [
    "# Save output_file\n",
    "np.save('T.npy', output_file)"
   ]
  },
  {
   "cell_type": "code",
   "execution_count": 15,
   "metadata": {},
   "outputs": [],
   "source": [
    "UV_RK4_dt05 = np.transpose(output_file, (1,0,2,3,4))"
   ]
  },
  {
   "cell_type": "code",
   "execution_count": 27,
   "metadata": {},
   "outputs": [],
   "source": [
    "import scipy"
   ]
  },
  {
   "cell_type": "code",
   "execution_count": 28,
   "metadata": {},
   "outputs": [],
   "source": [
    "scipy.io.savemat('3DGS_IC1_2x1501x48x48x48.mat', {'uv': UV_RK4_dt05[:, :, :, : ,:]})"
   ]
  }
 ],
 "metadata": {
  "kernelspec": {
   "display_name": "SciML",
   "language": "python",
   "name": "python3"
  },
  "language_info": {
   "codemirror_mode": {
    "name": "ipython",
    "version": 3
   },
   "file_extension": ".py",
   "mimetype": "text/x-python",
   "name": "python",
   "nbconvert_exporter": "python",
   "pygments_lexer": "ipython3",
   "version": "3.10.9"
  },
  "orig_nbformat": 4
 },
 "nbformat": 4,
 "nbformat_minor": 2
}
